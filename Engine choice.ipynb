{
 "cells": [
  {
   "cell_type": "markdown",
   "metadata": {},
   "source": [
    "# The Code"
   ]
  },
  {
   "cell_type": "code",
   "execution_count": 1,
   "metadata": {},
   "outputs": [],
   "source": [
    "import numpy as np\n",
    "import matplotlib.pyplot as plt\n",
    "import matplotlib as mplot\n",
    "from ipywidgets import interact\n",
    "import ipywidgets\n",
    "plt.style.use('fivethirtyeight')\n",
    "def AS(RPM): return 2*np.pi*RPM/60\n",
    "def OldR61(RPM,x): return 0.0425/2*np.sin(2*AS(RPM)*x+np.pi/2)+0.0425/2\n",
    "def OldR62(RPM,x): return 0.0425/2*np.sin(2*AS(RPM)*x+3*np.pi/2)+0.0425/2\n",
    "def T6751(RPM,x): return 0.0523/2*np.sin(1.5*AS(RPM)*x+np.pi/2)+0.0523/2\n",
    "def T6752(RPM,x): return 0.0523/2*np.sin(1.5*AS(RPM)*x+3*np.pi/2)+0.0523/2\n",
    "def SV6501(RPM,x): return 0.0636/2*np.sin(AS(RPM)*x+np.pi/2)+0.0636/2\n",
    "def SV6502(RPM,x): return 0.0636/2*np.sin(AS(RPM)*x+3*np.pi/2)+0.0636/2\n",
    "def KTM6901(RPM,x): return 0.0845/2*np.sin(AS(RPM)*x+np.pi/2)+0.0845/2\n",
    "def dOldR61(RPM,x): return np.abs(0.0425/2*2*AS(RPM)*np.cos(2*AS(RPM)*x+np.pi/2))\n",
    "def dOldR62(RPM,x): return np.abs(0.0425/2*2*AS(RPM)*np.cos(2*AS(RPM)*x+3*np.pi/2))\n",
    "def dT6751(RPM,x): return np.abs(0.0523/2*1.5*AS(RPM)*np.cos(1.5*AS(RPM)*x+np.pi/2))\n",
    "def dT6752(RPM,x): return np.abs(0.0523/2*1.5*AS(RPM)*np.cos(1.5*AS(RPM)*x+3*np.pi/2))\n",
    "def dSV6501(RPM,x): return np.abs(0.0636/2*AS(RPM)*np.cos(AS(RPM)*x+np.pi/2))\n",
    "def dSV6502(RPM,x): return np.abs(0.0636/2*AS(RPM)*np.cos(AS(RPM)*x+3*np.pi/2))\n",
    "def dKTM6901(RPM,x): return np.abs(0.0845/2*AS(RPM)*np.cos(AS(RPM)*x+np.pi/2))\n",
    "def chooseRPMnEngines(RPM,KTM690,SV650,Triumph675,OldR6):\n",
    "    plt.close('all')\n",
    "    fig, (ax,ax2,ax3) = plt.subplots(nrows=3, ncols=1,figsize=(20,15))\n",
    "    ax.set_xlim(0,0.05)\n",
    "    ax.set_ylim(-0.01,0.1)\n",
    "    ax.set_xlabel('Time(s)',fontsize=20)\n",
    "    ax.set_ylabel('Piston position (m)',fontsize=20)\n",
    "    ax2.set_xlim(-0.001,0.05)\n",
    "    ax2.set_ylim(-0.01,100)\n",
    "    ax2.set_xlabel('Time(s)',fontsize=20)\n",
    "    ax2.set_ylabel('Piston Speed (m/s)',fontsize=20)\n",
    "    ax3.set_xlim(0,0.05)\n",
    "    #ax3.set_ylim(-0.01,0.4)\n",
    "    ax3.set_xlabel('Time(s)',fontsize=20)\n",
    "    ax3.set_ylabel('Volumetric intake rate (m^3/s)',fontsize=20)\n",
    "    x = np.linspace(0.0001, 1, 100)\n",
    "    ax3.plot(x,0.061+0/x, 'k--', linewidth=2, label = \"Maximum Volumetric Intake\")\n",
    "    for tick in ax.get_xticklabels():\n",
    "        tick.set_fontsize(15)\n",
    "    for tick in ax.get_yticklabels():\n",
    "        tick.set_fontsize(15)\n",
    "    for tick in ax2.get_xticklabels():\n",
    "        tick.set_fontsize(15)\n",
    "    for tick in ax2.get_yticklabels():\n",
    "        tick.set_fontsize(15)\n",
    "    for tick in ax3.get_xticklabels():\n",
    "        tick.set_fontsize(15)\n",
    "    for tick in ax3.get_yticklabels():\n",
    "        tick.set_fontsize(15)\n",
    "    for i in range(1,17):\n",
    "        x4 = np.linspace(np.pi*(i-1)/(2*AS(RPM)), np.pi*i/(2*AS(RPM)), 100)\n",
    "        x3 = np.linspace(np.pi*(i-1)/(1.5*AS(RPM)), np.pi*i/(1.5*AS(RPM)), 100)\n",
    "        x2 = np.linspace(np.pi*(i-1)/(AS(RPM)), np.pi*i/(AS(RPM)), 100)\n",
    "        x1 = np.linspace(np.pi*(i-1)/AS(RPM), np.pi*i/AS(RPM), 100)\n",
    "        if OldR6 == False:\n",
    "            x4 = 0\n",
    "        if Triumph675 == False:\n",
    "            x3 = 0\n",
    "        if SV650 == False:\n",
    "            x2 = 0\n",
    "        if KTM690 == False:\n",
    "            x1= 0 \n",
    "        if i % 2 == 0:\n",
    "            if i <= (8*1.5):\n",
    "                ax.plot(x3,T6752(RPM,x3), 'y', linewidth=2)\n",
    "                ax2.plot(x3,dT6752(RPM,x3), 'y', linewidth=2)\n",
    "                ax3.plot(x3,np.pi*(0.074/2)**2*dT6752(RPM,x3), 'y', linewidth=2)\n",
    "            ax.plot(x4,OldR62(RPM,x4), 'b', linewidth=2)\n",
    "            ax2.plot(x4,dOldR62(RPM,x4), 'b', linewidth=2)\n",
    "            ax3.plot(x4,np.pi*(0.0655/2)**2*dOldR62(RPM,x4), 'b', linewidth=2)\n",
    "        else:\n",
    "            if i <= (8*1.5):\n",
    "                ax.plot(x3,T6751(RPM,x3), 'y', linewidth=2, label = \"Triumph Street Triple 675\")\n",
    "                ax2.plot(x3,dT6752(RPM,x3), 'y', linewidth=2)\n",
    "                ax3.plot(x3,np.pi*(0.074/2)**2*dT6752(RPM,x3), 'y', linewidth=2)\n",
    "            ax.plot(x4,OldR61(RPM,x4), 'b', linewidth=2, label = \"Yamaha R6\")\n",
    "            ax2.plot(x4,dOldR61(RPM,x4), 'b', linewidth=2)\n",
    "            ax3.plot(x4,np.pi*(0.0655/2)**2*dOldR61(RPM,x4), 'b', linewidth=2)\n",
    "            if i <= 8:\n",
    "                ax.plot(x1,KTM6901(RPM,x1), 'g', linewidth=2, label = \"KTM 690 Duke\")\n",
    "                ax2.plot(x1,dKTM6901(RPM,x1), 'g', linewidth=2)\n",
    "                ax3.plot(x1,np.pi*(0.102/2)**2*dKTM6901(RPM,x1), 'g', linewidth=2)\n",
    "        if i <= 8:\n",
    "            if i % 2 == 0:\n",
    "                ax.plot(x2,SV6502(RPM,x2), 'r', linewidth=2, label = \"Suzuki 650SV\")\n",
    "                ax2.plot(x2,dSV6502(RPM,x2), 'r', linewidth=2)\n",
    "                ax3.plot(x2,np.pi*(0.081/2)**2*dSV6502(RPM,x2), 'r', linewidth=2)\n",
    "            else:\n",
    "                ax.plot(x2,SV6501(RPM,x2), 'r', linewidth=2, label = \"Suzuki 650SV\")\n",
    "                ax2.plot(x2,dSV6501(RPM,x2), 'r', linewidth=2)\n",
    "                ax3.plot(x2,np.pi*(0.081/2)**2*dSV6501(RPM,x2), 'r', linewidth=2)\n",
    "        if i == 1:\n",
    "            ax.legend(fontsize=20)\n",
    "            ax3.legend(fontsize=20)\n",
    "def cooledsurface(NC,Stroke,Bore,description):\n",
    "    area = (2*np.pi*Bore/2*Stroke*NC)*10**(-6)\n",
    "    return print(\"Total Cooled area for \", description, \": \", round(area,4), \"m^2\")"
   ]
  },
  {
   "cell_type": "markdown",
   "metadata": {},
   "source": [
    "# Engine choice\n",
    "\n",
    "This notebook analyses what engine is best for us to purchase.\n",
    "\n",
    "I will look at the following four engines: \n",
    "\n",
    "| Engine Name | Year | Displacement (cc) | Engine Type |\n",
    "| --- | --- | --- | --- |\n",
    "| Yamaha R6 Current | 2002 | 600 | Inline 4 |\n",
    "| Yamaha R6 New | 2008-2017- | 600 | Inline 4 |\n",
    "| Triumph Street Triple | 2007-2016 | 675 | Inline 3 |\n",
    "| Suzuki SV650X | -2017- | 645 | 90°V 2 |\n",
    "| KTM 690 Duke | 2012-2016- | 690 | Single |\n",
    "\n",
    "<center>Table 1</center>"
   ]
  },
  {
   "cell_type": "markdown",
   "metadata": {},
   "source": [
    "## Economical point of view\n",
    "\n",
    "Below is a table I have compiled with prices:\n",
    "\n",
    "| Engine Name | New | Bike <10,000km | Bike <25,000km | Crashed | Engine Only |\n",
    "| --- | --- | --- | --- | --- | --- |\n",
    "| Yamaha R6 New | 11,500 | 7000 | 5000 | N/A | N/A |\n",
    "| Triumph Street Triple | N/A | 4000 | 3000 | N/A | 1400 |\n",
    "| Suzuki SV650X | 6200 | 3400 | 1500 | N/A | 600 |\n",
    "| KTM 690 Duke | 8000 | 5000 | 2500 | N/A | 1500 |\n",
    "\n",
    "<center>Table 2 All prices in £</center>\n",
    "\n",
    "Yamaha is the overall most expensive bike but it is also the most common one, meaning an abundance of spare parts. The Street Triple is the only one out of production however it is the most common from the remaining three in terms of number sold in the uk. Purcahsing spare parts from a triumph dealer is possible as they have a heritage parts department. Suzuki does too but the SV650 is the least common from the four. KTM Dukes are rare and relatively new and they dont have a good recognised heritage spare parts department but they are the cheapest.\n",
    "\n",
    "My belief is to purchase a bike or an engine that we are sure runs and has had certified maintenence. Then purchase 3-4 other fully built engines, whose state is not of great importance, for spare parts. "
   ]
  },
  {
   "cell_type": "markdown",
   "metadata": {},
   "source": [
    "## Prefromance point of view\n",
    "\n",
    "Below is a table with performance figures of each engine:\n",
    "\n",
    "| Engine | Bore(mm) x stroke(mm) | Max power(hp)@RPM | Max torque(Nm)@RPM | Redline RPM | Compression ratio |\n",
    "| --- | --- | --- | --- | --- | --- |\n",
    "| Yamaha R6 Old | 65.5 x 44.5 | 118@13,000 | 60@11,750 | 15,000 | 12.4:1 |\n",
    "| Yamaha R6 New | 67 x 42.5 | 127@14,500 | 57.5Nm@11,500 | 17,500 | 13.1:1 |\n",
    "| Triumph Street Triple | 74 x 52.3 | 106@11,750 | 68Nm@9,100 | 13,000 | 12.5:1 |\n",
    "| Suzuki SV650X | 81 x 63.6 | 75@8,500 | 64@8,000 | 10,000 | 11.2:1 |\n",
    "| KTM 690 Duke | 102 x 84.5 | 70@7,500 | 70@6,500 | 10,000 | 12.6:1 |\n",
    "\n",
    "<center>Table 2</center>\n"
   ]
  },
  {
   "cell_type": "markdown",
   "metadata": {},
   "source": [
    "### Power Curves\n",
    "\n",
    "The red dotted line represents the theoretical maximum RPM due to intake restriction.\n",
    "The green dotted line represents RPM at 85% volumetric efficiency.\n",
    "\n",
    "<center>Current Old Yamaha R6 Curve</center>\n",
    "\n",
    "![title](img/R6.jpg)\n",
    "\n",
    "<center>Triumph Street Triple</center>\n",
    "\n",
    "![title](img/675.jpg)\n",
    "    \n",
    "<center>KTM Duke 690 </center>\n",
    "\n",
    "![title](img/690.jpg)\n",
    "\n",
    "The data of these graphs can be questioned, as we dont know how calibrated the dyno was. \n",
    "\n",
    "Below is the formula to calculate the lines:\n",
    "\\begin{equation*}\n",
    "Theoretical Max RPM = 120*\\frac{Volumetric flow through the Restrictor}{Displacement}\n",
    "\\end{equation*}\n",
    "    "
   ]
  },
  {
   "cell_type": "markdown",
   "metadata": {},
   "source": [
    "### Analysing the effect of the restrictor"
   ]
  },
  {
   "cell_type": "code",
   "execution_count": 2,
   "metadata": {
    "scrolled": false
   },
   "outputs": [
    {
     "name": "stdout",
     "output_type": "stream",
     "text": [
      "Choose RPM and Engines to display\n"
     ]
    },
    {
     "data": {
      "application/vnd.jupyter.widget-view+json": {
       "model_id": "99051890ef8c43d7a5755e04b7eb2aed",
       "version_major": 2,
       "version_minor": 0
      },
      "text/plain": [
       "interactive(children=(IntSlider(value=6000, continuous_update=False, description='RPM', max=15000, min=1, step…"
      ]
     },
     "metadata": {},
     "output_type": "display_data"
    }
   ],
   "source": [
    "from ipywidgets import interact\n",
    "print(\"Choose RPM and Engines to display\")\n",
    "interact(chooseRPMnEngines, RPM=ipywidgets.IntSlider(min=1,max=15000,step=10,value=6000,continuous_update=False),KTM690=True,SV650=True,Triumph675=True,OldR6=True);"
   ]
  },
  {
   "cell_type": "markdown",
   "metadata": {},
   "source": [
    "### Cooling\n",
    "\n",
    "This aspect is often overlooked by many teams when choosing an engine. For example, Monasch Racing, an austrailian FS team, recently purchased a single cylinder engine KTM 690. They bought it on their belief that it has a greater power/weigth ratio, this might be true in a street application but in a formula student application is very different. On testing this team realised there insufficient cooling and they had to install an additional radiator in parallel raing the weight of the package considerably.\n",
    "\n",
    "A simple way of understanding the cooling between engines is below. "
   ]
  },
  {
   "cell_type": "code",
   "execution_count": 3,
   "metadata": {},
   "outputs": [
    {
     "name": "stdout",
     "output_type": "stream",
     "text": [
      "Total Cooled area for  Old Yamaha R6 :  0.0366 m^2\n",
      "Total Cooled area for  New Yamaha R6 :  0.0358 m^2\n",
      "Total Cooled area for  Triumph 675 :  0.0365 m^2\n",
      "Total Cooled area for  Suzuki SV650 :  0.0324 m^2\n",
      "Total Cooled area for  KTM 690 Duke :  0.0271 m^2\n"
     ]
    }
   ],
   "source": [
    "cooledsurface(4,44.5,65.5, \"Old Yamaha R6\")\n",
    "cooledsurface(4,42.5 ,67, \"New Yamaha R6\")\n",
    "cooledsurface(3,52.3,74, \"Triumph 675\")\n",
    "cooledsurface(2,63.6,81, \"Suzuki SV650\")\n",
    "cooledsurface(1,84.5,102, \"KTM 690 Duke\")"
   ]
  },
  {
   "cell_type": "markdown",
   "metadata": {},
   "source": [
    "The larger the cooling the area the smaller the cooling system can be because the engine can disipate heat faster. Running an engine cold is not a good idea becasue energy that could be converted to kinetic is converted to heat instead, however running an engine too warm weakens part due to thermal stresses. "
   ]
  },
  {
   "cell_type": "markdown",
   "metadata": {},
   "source": [
    "### Power to weight ratio\n",
    "\n",
    "This is the feature we are most interested in for our engine. On the street bike the Yamaha R6 has the best power to weight ratio.   "
   ]
  }
 ],
 "metadata": {
  "kernelspec": {
   "display_name": "Python 3",
   "language": "python",
   "name": "python3"
  },
  "language_info": {
   "codemirror_mode": {
    "name": "ipython",
    "version": 3
   },
   "file_extension": ".py",
   "mimetype": "text/x-python",
   "name": "python",
   "nbconvert_exporter": "python",
   "pygments_lexer": "ipython3",
   "version": "3.7.4"
  }
 },
 "nbformat": 4,
 "nbformat_minor": 2
}
